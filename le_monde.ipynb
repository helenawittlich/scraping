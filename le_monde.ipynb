{
 "cells": [
  {
   "cell_type": "code",
   "execution_count": 1,
   "id": "d2e7db24-d6c8-457c-954e-2abe10f638e9",
   "metadata": {},
   "outputs": [],
   "source": [
    "import requests\n",
    "from bs4 import BeautifulSoup\n",
    "import pandas as pd\n",
    "\n",
    "response = requests.get(\"https://www.lemonde.fr/en/\")\n",
    "doc = BeautifulSoup(response.text)"
   ]
  },
  {
   "cell_type": "code",
   "execution_count": 3,
   "id": "03adca71-ed97-459b-b327-bf67bd1990bc",
   "metadata": {},
   "outputs": [],
   "source": [
    "items = doc.select('.article')"
   ]
  },
  {
   "cell_type": "code",
   "execution_count": 8,
   "id": "28a9e88a-c83c-4b2e-b294-25ff625c88bd",
   "metadata": {},
   "outputs": [],
   "source": [
    "rows = []\n",
    "\n",
    "for item in items:\n",
    "    row = {}\n",
    "\n",
    "    # Headline\n",
    "    try:\n",
    "        row['headline'] = (item.select_one('.article__title-label') or item.select_one('.article__title')).text.strip()\n",
    "    except:\n",
    "        row['headline'] = 'no headline'\n",
    "\n",
    "    # Description\n",
    "    try:\n",
    "        row['description'] = item.select_one('.article__desc').text.strip()\n",
    "    except:\n",
    "        row['description'] = 'no description'\n",
    "\n",
    "    # URL\n",
    "    try:\n",
    "        row['url'] = item.select_one(\"a[href]\").get(\"href\")\n",
    "    except:\n",
    "        try:\n",
    "            row['url'] = item.get('href')\n",
    "        except:\n",
    "            row['url'] = None\n",
    "\n",
    "    # Byline\n",
    "    try:\n",
    "        if item.select_one('.article__byline'):\n",
    "            row['byline'] = item.select_one('.article__byline').text.strip()\n",
    "        elif item.select_one('.article__author-name'):\n",
    "            row['byline'] = item.select_one('.article__author-name').text.strip()\n",
    "        else:\n",
    "            row['byline'] = None\n",
    "    except:\n",
    "        row['byline'] = None\n",
    "\n",
    "    # Premium status\n",
    "    try:\n",
    "        if item.find(class_='icon__premium').text.strip() == \"Subscribers only\":\n",
    "            row['premium'] = True\n",
    "    except:\n",
    "        row['premium'] = False\n",
    "\n",
    "    # Image URL\n",
    "    try:\n",
    "        row['image_url'] = item.find('img').get('src') or item.find('img').get('data-src')\n",
    "    except:\n",
    "        row['image_url'] = None\n",
    "\n",
    "    # Article Type\n",
    "    try:\n",
    "        row['article type'] = item.find(class_='article__type').text.strip()\n",
    "    except:\n",
    "        row['article type'] = None\n",
    "\n",
    "    rows.append(row)\n"
   ]
  },
  {
   "cell_type": "code",
   "execution_count": 10,
   "id": "909f9de7-b7b0-48fd-a0cb-d3e09375b1d8",
   "metadata": {},
   "outputs": [
    {
     "data": {
      "text/plain": [
       "53"
      ]
     },
     "execution_count": 10,
     "metadata": {},
     "output_type": "execute_result"
    }
   ],
   "source": [
    "len(rows)"
   ]
  },
  {
   "cell_type": "code",
   "execution_count": 12,
   "id": "b76b255e-4a8f-4ce0-8294-c39a3d6b5446",
   "metadata": {},
   "outputs": [],
   "source": [
    "df = pd.json_normalize(rows)"
   ]
  },
  {
   "cell_type": "code",
   "execution_count": 14,
   "id": "0edc7964-d029-4fd0-860b-aaab765cfc17",
   "metadata": {},
   "outputs": [],
   "source": [
    "df.to_csv('le_monde.csv')"
   ]
  }
 ],
 "metadata": {
  "kernelspec": {
   "display_name": "Python 3 (ipykernel)",
   "language": "python",
   "name": "python3"
  },
  "language_info": {
   "codemirror_mode": {
    "name": "ipython",
    "version": 3
   },
   "file_extension": ".py",
   "mimetype": "text/x-python",
   "name": "python",
   "nbconvert_exporter": "python",
   "pygments_lexer": "ipython3",
   "version": "3.12.8"
  }
 },
 "nbformat": 4,
 "nbformat_minor": 5
}
