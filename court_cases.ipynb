{
 "cells": [
  {
   "cell_type": "code",
   "execution_count": 1,
   "id": "e01d5804-ab17-4f2b-bda3-e5895d70ccd3",
   "metadata": {},
   "outputs": [],
   "source": [
    "# Since it worked perfectly with the driver license one, I, again, did ask Chat GPT for the right tags \n",
    "# after checking the html structure and making sure I can get all elements with the request.\n",
    "\n",
    "import requests\n",
    "from bs4 import BeautifulSoup\n",
    "import pandas as pd\n",
    "\n",
    "response = requests.get(\"https://www.tnwb.uscourts.gov/Search/search.aspx?zoom_sort=0&zoom_xml=0&zoom_query=%22car%22&zoom_per_page=132&zoom_and=1&zoom_cat%5B%5D=-1\")\n",
    "doc = BeautifulSoup(response.text)"
   ]
  },
  {
   "cell_type": "code",
   "execution_count": 2,
   "id": "9784a4d5-1376-424c-b17c-11f3d2c1740d",
   "metadata": {},
   "outputs": [],
   "source": [
    "items = doc.select('.result_block, .result_altblock')"
   ]
  },
  {
   "cell_type": "code",
   "execution_count": 3,
   "id": "ee24f04f-dc4c-4db0-82b5-40131b3f6728",
   "metadata": {},
   "outputs": [
    {
     "data": {
      "text/plain": [
       "132"
      ]
     },
     "execution_count": 3,
     "metadata": {},
     "output_type": "execute_result"
    }
   ],
   "source": [
    "len(items)"
   ]
  },
  {
   "cell_type": "code",
   "execution_count": 4,
   "id": "c82b8580-0222-490b-a184-1c5ecc08621e",
   "metadata": {},
   "outputs": [],
   "source": [
    "rows = []\n",
    "\n",
    "for item in items:\n",
    "    row = {}\n",
    "\n",
    "    # Case Name\n",
    "    try:\n",
    "        row['case_name'] = item.select_one('.result_title a').text.strip()\n",
    "    except:\n",
    "        row['case_name'] = 'no name'\n",
    "\n",
    "    # URL to the Case (PDF)\n",
    "    try:\n",
    "        row['url'] = item.select_one('.result_title a')['href']\n",
    "    except:\n",
    "        row['url'] = None\n",
    "\n",
    "    # Category\n",
    "    try:\n",
    "        row['category'] = item.select_one('.result_title .category').text.strip(\" []\")\n",
    "    except:\n",
    "        row['category'] = None\n",
    "\n",
    "    # Additional Details (Terms matched, size, PDF URL)\n",
    "    \n",
    "    try:\n",
    "        detail_text = item.select_one('.infoline').text.strip()\n",
    "        parts = detail_text.split(' - ')\n",
    "    \n",
    "    # Terms matched\n",
    "        row['terms_matched'] = int(parts[0].replace('Terms matched:', '').strip())\n",
    "    \n",
    "    # File size\n",
    "        row['file_size'] = parts[1].strip()\n",
    "    \n",
    "    # PDF URL\n",
    "        row['pdf_url'] = parts[2].replace('URL:', '').strip()\n",
    "    except:\n",
    "        row['terms_matched'] = None\n",
    "        row['file_size'] = None\n",
    "        row['pdf_url'] = None\n",
    "\n",
    "    rows.append(row)\n"
   ]
  },
  {
   "cell_type": "code",
   "execution_count": 5,
   "id": "f8249c07-4c6f-4512-953e-0bc43b5f9216",
   "metadata": {},
   "outputs": [
    {
     "data": {
      "text/plain": [
       "132"
      ]
     },
     "execution_count": 5,
     "metadata": {},
     "output_type": "execute_result"
    }
   ],
   "source": [
    "len(rows)"
   ]
  },
  {
   "cell_type": "code",
   "execution_count": 6,
   "id": "8846e991-f34e-4c19-a7dd-d61dbde4c8a3",
   "metadata": {},
   "outputs": [
    {
     "data": {
      "text/plain": [
       "{'case_name': 'JDL: 04-24318 Jacquelline D. Black',\n",
       " 'url': 'https://www.tnwb.uscourts.gov/Opinions/jdl/pdf/jdl20071024nn1.pdf#search=%22car%22',\n",
       " 'category': \"Judges' Opinions\",\n",
       " 'terms_matched': 1,\n",
       " 'file_size': '102k',\n",
       " 'pdf_url': 'https://www.tnwb.uscourts.gov/Opinions/jdl/pdf/jdl20071024nn1.pdf'}"
      ]
     },
     "execution_count": 6,
     "metadata": {},
     "output_type": "execute_result"
    }
   ],
   "source": [
    "rows[0]"
   ]
  },
  {
   "cell_type": "code",
   "execution_count": 7,
   "id": "813f24d1-f600-46c4-b8aa-ede540a3d6aa",
   "metadata": {},
   "outputs": [],
   "source": [
    "df = pd.json_normalize(rows)"
   ]
  },
  {
   "cell_type": "code",
   "execution_count": 8,
   "id": "155d1cd1-297d-4470-bdd9-9330c59bd3c0",
   "metadata": {},
   "outputs": [],
   "source": [
    "df.to_csv('court_cases.csv')"
   ]
  },
  {
   "cell_type": "code",
   "execution_count": 14,
   "id": "bed70ab3-977e-4709-80ff-8b42d69e764a",
   "metadata": {},
   "outputs": [],
   "source": [
    "for row in rows: \n",
    "    pdf_response = requests.get(row['pdf_url'])\n",
    "    file_name = row['pdf_url'].split('/')[-1]\n",
    "    with open(file_name, 'wb') as pdf_file:\n",
    "        pdf_file.write(pdf_response.content)"
   ]
  }
 ],
 "metadata": {
  "kernelspec": {
   "display_name": "Python 3 (ipykernel)",
   "language": "python",
   "name": "python3"
  },
  "language_info": {
   "codemirror_mode": {
    "name": "ipython",
    "version": 3
   },
   "file_extension": ".py",
   "mimetype": "text/x-python",
   "name": "python",
   "nbconvert_exporter": "python",
   "pygments_lexer": "ipython3",
   "version": "3.12.8"
  }
 },
 "nbformat": 4,
 "nbformat_minor": 5
}
